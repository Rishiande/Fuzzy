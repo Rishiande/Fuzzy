{
 "cells": [
  {
   "cell_type": "markdown",
   "id": "9de230c2",
   "metadata": {},
   "source": [
    "# Text Recognition \n"
   ]
  },
  {
   "cell_type": "code",
   "execution_count": 3,
   "id": "1fe7dfe6",
   "metadata": {},
   "outputs": [
    {
     "name": "stderr",
     "output_type": "stream",
     "text": [
      "C:\\Users\\rishi\\anaconda3\\Lib\\site-packages\\fuzzywuzzy\\fuzz.py:11: UserWarning: Using slow pure-python SequenceMatcher. Install python-Levenshtein to remove this warning\n",
      "  warnings.warn('Using slow pure-python SequenceMatcher. Install python-Levenshtein to remove this warning')\n",
      "[nltk_data] Downloading package punkt to\n",
      "[nltk_data]     C:\\Users\\rishi\\AppData\\Roaming\\nltk_data...\n",
      "[nltk_data]   Unzipping tokenizers\\punkt.zip.\n"
     ]
    }
   ],
   "source": [
    "import csv\n",
    "import nltk\n",
    "from nltk.tokenize import word_tokenize\n",
    "import string\n",
    "from fuzzywuzzy import fuzz\n",
    "\n",
    "# Download the 'punkt' resource\n",
    "nltk.download('punkt')\n",
    "\n",
    "def get_item_names_from_csv(csv_file):\n",
    "    item_names = []\n",
    "    with open(csv_file, 'r') as file:\n",
    "        csv_reader = csv.reader(file)\n",
    "        column_names = next(csv_reader)  # Read the column names from the first row\n",
    "        sku_name_index = column_names.index('sku_name')\n",
    "        for row in csv_reader:\n",
    "            item_names.append(row[sku_name_index])\n",
    "    return item_names\n",
    "\n",
    "# The get_similarity_level function determines the recognition level based on a similarity score\n",
    "\n",
    "def get_similarity_level(score):\n",
    "    # Determine the recognition level based on the similarity score\n",
    "    if score >= 80:\n",
    "        return 'high'  # If score is very high, consider it a high recognition level\n",
    "    elif score >= 60:\n",
    "        return 'medium'  # If score is moderately high, consider it a medium recognition level\n",
    "    else:\n",
    "        return 'low'  # If score is low, consider it a low recognition level\n",
    "\n"
   ]
  },
  {
   "cell_type": "markdown",
   "id": "abd5759d",
   "metadata": {},
   "source": [
    "# Recognize_items_with_fuzzy_logic function, making it clear how fuzzy logic concepts are being applied to determine item recognition levels based on the calculated similarity scores."
   ]
  },
  {
   "cell_type": "code",
   "execution_count": 4,
   "id": "b36bcc31",
   "metadata": {},
   "outputs": [],
   "source": [
    "#While traditional fuzzy logic systems often use explicit \"IF-THEN\" rules to model fuzzy relationships, \n",
    "#the approach you're using with if and elif statements in your code can indeed be considered a simplified form of implementing \n",
    "#fuzzy logic concepts.\n",
    "#In your code, the if and elif statements are being used to make decisions based on conditions that represent fuzzy rules. \n",
    "#These conditions determine how the recognition process should behave depending on the calculated similarity level and score. \n",
    "#While it's a simplified approach compared to formal fuzzy logic systems, it does capture the idea of using conditions to \n",
    "#handle different recognition scenarios based on fuzzy reasoning.\n",
    "\n",
    "\n",
    "def recognize_items_with_fuzzy_logic(input_text, item_names):\n",
    "    recognized_items = []\n",
    "\n",
    "    for item in item_names:\n",
    "        # Calculate similarity score between input_text and item\n",
    "        similarity_score = fuzz.token_sort_ratio(input_text.lower(), item.lower())\n",
    "        \n",
    "        # Determine the recognition level based on the similarity score\n",
    "        similarity_level = get_similarity_level(similarity_score)\n",
    "\n",
    "        # Apply fuzzy rules using if and elif statements\n",
    "        if similarity_level == 'high':\n",
    "            # If similarity level is high, confidently recognize the item\n",
    "            recognized_items.append((item, similarity_score, similarity_level))\n",
    "        elif similarity_level == 'medium' and similarity_score >= 70:\n",
    "            # If similarity level is medium and score is sufficiently high, recognize the item\n",
    "            recognized_items.append((item, similarity_score, similarity_level))\n",
    "\n",
    "    return recognized_items"
   ]
  },
  {
   "cell_type": "code",
   "execution_count": 5,
   "id": "c6fd5adf",
   "metadata": {},
   "outputs": [
    {
     "name": "stdout",
     "output_type": "stream",
     "text": [
      "Recognized Items:\n",
      "Item: Omkaram Deepam oil 900ml\n",
      "Similarity Score: 100\n",
      "Recognition Level: high\n",
      "\n",
      "Item: Omkaram Deepam oil 800ml\n",
      "Similarity Score: 96\n",
      "Recognition Level: high\n",
      "\n",
      "Item: Omkaram Deepam oil 400ml\n",
      "Similarity Score: 96\n",
      "Recognition Level: high\n",
      "\n",
      "Item: Omkaram Deepam oil 200ml\n",
      "Similarity Score: 96\n",
      "Recognition Level: high\n",
      "\n",
      "Item: Omkaram Deepam oil 100ml\n",
      "Similarity Score: 96\n",
      "Recognition Level: high\n",
      "\n",
      "Item: Paras Deepam Oil -900ml -1Pc\n",
      "Similarity Score: 80\n",
      "Recognition Level: high\n",
      "\n",
      "Item: Paras Deepam Oil -450ml -1Pc\n",
      "Similarity Score: 72\n",
      "Recognition Level: medium\n",
      "\n",
      "Item: Paras Deepam Oil -200ml -1Pc\n",
      "Similarity Score: 76\n",
      "Recognition Level: medium\n",
      "\n",
      "Item: Paras Deepam Oil -450ml\n",
      "Similarity Score: 78\n",
      "Recognition Level: medium\n",
      "\n",
      "Total number of recognized items: 9\n"
     ]
    }
   ],
   "source": [
    "def print_recognition_results(recognized_items):\n",
    "    if recognized_items:\n",
    "        print(\"Recognized Items:\")\n",
    "        for item, score, level in recognized_items:\n",
    "            print(\"Item:\", item)\n",
    "            print(\"Similarity Score:\", score)\n",
    "            print(\"Recognition Level:\", level)\n",
    "            print()\n",
    "\n",
    "        total_items = len(recognized_items)\n",
    "        print(\"Total number of recognized items:\", total_items)\n",
    "    else:\n",
    "        print(\"No recognized items found.\")\n",
    "\n",
    "# Path to the CSV file containing item names\n",
    "csv_file = 'Item.csv'\n",
    "\n",
    "# Get item names from the CSV file\n",
    "item_names = get_item_names_from_csv(csv_file)\n",
    "\n",
    "# Input sentence\n",
    "input_sentence = \"Omkaram Deepam oil 900ml\"\n",
    "\n",
    "# Compare input text with item names using fuzzy logic\n",
    "recognized_items = recognize_items_with_fuzzy_logic(input_sentence, item_names)\n",
    "\n",
    "# Print recognition results\n",
    "print_recognition_results(recognized_items)\n"
   ]
  },
  {
   "cell_type": "code",
   "execution_count": null,
   "id": "df199762",
   "metadata": {},
   "outputs": [],
   "source": []
  }
 ],
 "metadata": {
  "kernelspec": {
   "display_name": "Python 3 (ipykernel)",
   "language": "python",
   "name": "python3"
  },
  "language_info": {
   "codemirror_mode": {
    "name": "ipython",
    "version": 3
   },
   "file_extension": ".py",
   "mimetype": "text/x-python",
   "name": "python",
   "nbconvert_exporter": "python",
   "pygments_lexer": "ipython3",
   "version": "3.11.3"
  }
 },
 "nbformat": 4,
 "nbformat_minor": 5
}
